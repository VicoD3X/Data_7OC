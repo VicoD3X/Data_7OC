{
 "cells": [
  {
   "cell_type": "markdown",
   "id": "a54c65af",
   "metadata": {},
   "source": [
    "# Exploration du dataset Sentiment140"
   ]
  },
  {
   "cell_type": "code",
   "execution_count": 1,
   "id": "12522e89",
   "metadata": {},
   "outputs": [
    {
     "name": "stderr",
     "output_type": "stream",
     "text": [
      "c:\\Users\\vicau\\P7OC\\.venv\\Lib\\site-packages\\tqdm\\auto.py:21: TqdmWarning: IProgress not found. Please update jupyter and ipywidgets. See https://ipywidgets.readthedocs.io/en/stable/user_install.html\n",
      "  from .autonotebook import tqdm as notebook_tqdm\n"
     ]
    },
    {
     "ename": "NameError",
     "evalue": "name 'path' is not defined",
     "output_type": "error",
     "traceback": [
      "\u001b[31m---------------------------------------------------------------------------\u001b[39m",
      "\u001b[31mNameError\u001b[39m                                 Traceback (most recent call last)",
      "\u001b[36mCell\u001b[39m\u001b[36m \u001b[39m\u001b[32mIn[1]\u001b[39m\u001b[32m, line 10\u001b[39m\n\u001b[32m      4\u001b[39m \u001b[38;5;28;01mimport\u001b[39;00m\u001b[38;5;250m \u001b[39m\u001b[34;01mkagglehub\u001b[39;00m\n\u001b[32m      8\u001b[39m \u001b[38;5;66;03m# Charger le CSV\u001b[39;00m\n\u001b[32m      9\u001b[39m df = pd.read_csv(\n\u001b[32m---> \u001b[39m\u001b[32m10\u001b[39m     \u001b[33mf\u001b[39m\u001b[33m\"\u001b[39m\u001b[38;5;132;01m{\u001b[39;00m\u001b[43mpath\u001b[49m\u001b[38;5;132;01m}\u001b[39;00m\u001b[33m/training.1600000.processed.noemoticon.csv\u001b[39m\u001b[33m\"\u001b[39m,\n\u001b[32m     11\u001b[39m     encoding=\u001b[33m\"\u001b[39m\u001b[33mlatin-1\u001b[39m\u001b[33m\"\u001b[39m,\n\u001b[32m     12\u001b[39m     header=\u001b[38;5;28;01mNone\u001b[39;00m\n\u001b[32m     13\u001b[39m )\n\u001b[32m     15\u001b[39m \u001b[38;5;66;03m# Nommer les colonnes\u001b[39;00m\n\u001b[32m     16\u001b[39m df.columns = [\u001b[33m\"\u001b[39m\u001b[33mtarget\u001b[39m\u001b[33m\"\u001b[39m, \u001b[33m\"\u001b[39m\u001b[33mid\u001b[39m\u001b[33m\"\u001b[39m, \u001b[33m\"\u001b[39m\u001b[33mdate\u001b[39m\u001b[33m\"\u001b[39m, \u001b[33m\"\u001b[39m\u001b[33mflag\u001b[39m\u001b[33m\"\u001b[39m, \u001b[33m\"\u001b[39m\u001b[33muser\u001b[39m\u001b[33m\"\u001b[39m, \u001b[33m\"\u001b[39m\u001b[33mtext\u001b[39m\u001b[33m\"\u001b[39m]\n",
      "\u001b[31mNameError\u001b[39m: name 'path' is not defined"
     ]
    }
   ],
   "source": [
    "import pandas as pd\n",
    "import matplotlib.pyplot as plt\n",
    "import seaborn as sns\n",
    "import kagglehub\n",
    "\n",
    "\n",
    "\n",
    "# Charger le CSV\n",
    "df = pd.read_csv(\n",
    "    f\"{path}/training.1600000.processed.noemoticon.csv\",\n",
    "    encoding=\"latin-1\",\n",
    "    header=None\n",
    ")\n",
    "\n",
    "# Nommer les colonnes\n",
    "df.columns = [\"target\", \"id\", \"date\", \"flag\", \"user\", \"text\"]\n"
   ]
  }
 ],
 "metadata": {
  "kernelspec": {
   "display_name": ".venv",
   "language": "python",
   "name": "python3"
  },
  "language_info": {
   "codemirror_mode": {
    "name": "ipython",
    "version": 3
   },
   "file_extension": ".py",
   "mimetype": "text/x-python",
   "name": "python",
   "nbconvert_exporter": "python",
   "pygments_lexer": "ipython3",
   "version": "3.13.6"
  }
 },
 "nbformat": 4,
 "nbformat_minor": 5
}
