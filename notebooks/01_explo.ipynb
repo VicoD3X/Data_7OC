{
 "cells": [
  {
   "cell_type": "markdown",
   "id": "a54c65af",
   "metadata": {},
   "source": [
    "# Exploration du dataset Sentiment140"
   ]
  },
  {
   "cell_type": "code",
   "execution_count": 12,
   "id": "12522e89",
   "metadata": {},
   "outputs": [
    {
     "name": "stdout",
     "output_type": "stream",
     "text": [
      "Taille du dataset réduit : (16000, 6)\n",
      "target\n",
      "1    8000\n",
      "0    8000\n",
      "Name: count, dtype: int64\n",
      "Train: 10240\n",
      "Validation: 2560\n",
      "Test: 3200\n",
      "Fichier sentiment140_light.csv créé dans /data\n"
     ]
    }
   ],
   "source": [
    "import pandas as pd\n",
    "from sklearn.model_selection import train_test_split\n",
    "\n",
    "# Chargement du dataset depuis le dossier data\n",
    "df = pd.read_csv(\n",
    "    \"../data/sentiment140.csv\",\n",
    "    encoding=\"latin-1\",\n",
    "    header=None\n",
    ")\n",
    "\n",
    "# Attribution des noms de colonnes\n",
    "df.columns = [\"target\", \"id\", \"date\", \"flag\", \"user\", \"text\"]\n",
    "\n",
    "# Conversion des labels : 0 = négatif, 4 = positif → 0/1\n",
    "df[\"target\"] = df[\"target\"].apply(lambda x: 1 if x == 4 else 0)\n",
    "\n",
    "# Échantillonnage équilibré de 16 000 tweets\n",
    "df_neg = df[df[\"target\"] == 0].sample(8000, random_state=42)\n",
    "df_pos = df[df[\"target\"] == 1].sample(8000, random_state=42)\n",
    "df_small = pd.concat([df_neg, df_pos]).sample(frac=1, random_state=42).reset_index(drop=True)\n",
    "\n",
    "print(\"Taille du dataset réduit :\", df_small.shape)\n",
    "print(df_small[\"target\"].value_counts())\n",
    "\n",
    "# Découpage Train / Validation / Test\n",
    "train_df, test_df = train_test_split(\n",
    "    df_small, test_size=0.2, random_state=42, stratify=df_small[\"target\"]\n",
    ")\n",
    "\n",
    "train_texts, val_texts, y_train, y_val = train_test_split(\n",
    "    train_df[\"text\"], train_df[\"target\"], test_size=0.2, random_state=42, stratify=train_df[\"target\"]\n",
    ")\n",
    "\n",
    "print(\"Train:\", len(train_texts))\n",
    "print(\"Validation:\", len(val_texts))\n",
    "print(\"Test:\", len(test_df))\n",
    "\n",
    "# Sauvegarde du dataset réduit pour réutilisation\n",
    "df_small.to_csv(\"../data/sentiment140_light.csv\", index=False, encoding=\"utf-8\")\n",
    "print(\"Fichier sentiment140_light.csv créé dans /data\")\n"
   ]
  },
  {
   "cell_type": "code",
   "execution_count": 13,
   "id": "60e09cef",
   "metadata": {},
   "outputs": [
    {
     "data": {
      "text/html": [
       "<div>\n",
       "<style scoped>\n",
       "    .dataframe tbody tr th:only-of-type {\n",
       "        vertical-align: middle;\n",
       "    }\n",
       "\n",
       "    .dataframe tbody tr th {\n",
       "        vertical-align: top;\n",
       "    }\n",
       "\n",
       "    .dataframe thead th {\n",
       "        text-align: right;\n",
       "    }\n",
       "</style>\n",
       "<table border=\"1\" class=\"dataframe\">\n",
       "  <thead>\n",
       "    <tr style=\"text-align: right;\">\n",
       "      <th></th>\n",
       "      <th>target</th>\n",
       "      <th>id</th>\n",
       "      <th>date</th>\n",
       "      <th>flag</th>\n",
       "      <th>user</th>\n",
       "      <th>text</th>\n",
       "    </tr>\n",
       "  </thead>\n",
       "  <tbody>\n",
       "    <tr>\n",
       "      <th>0</th>\n",
       "      <td>1</td>\n",
       "      <td>2007530999</td>\n",
       "      <td>Tue Jun 02 12:46:34 PDT 2009</td>\n",
       "      <td>NO_QUERY</td>\n",
       "      <td>Zensunni</td>\n",
       "      <td>@pbadstibner I have good balance..used to do m...</td>\n",
       "    </tr>\n",
       "    <tr>\n",
       "      <th>1</th>\n",
       "      <td>0</td>\n",
       "      <td>2053389416</td>\n",
       "      <td>Sat Jun 06 04:22:50 PDT 2009</td>\n",
       "      <td>NO_QUERY</td>\n",
       "      <td>nikki050572</td>\n",
       "      <td>@gtissa Still having issue and it's GDI!!! The...</td>\n",
       "    </tr>\n",
       "    <tr>\n",
       "      <th>2</th>\n",
       "      <td>0</td>\n",
       "      <td>2202299998</td>\n",
       "      <td>Tue Jun 16 21:33:49 PDT 2009</td>\n",
       "      <td>NO_QUERY</td>\n",
       "      <td>BigBossBeta</td>\n",
       "      <td>@Chrismorris528 Sigh. In 3 hours. It sucks to ...</td>\n",
       "    </tr>\n",
       "    <tr>\n",
       "      <th>3</th>\n",
       "      <td>0</td>\n",
       "      <td>2013656571</td>\n",
       "      <td>Tue Jun 02 23:13:29 PDT 2009</td>\n",
       "      <td>NO_QUERY</td>\n",
       "      <td>haushi87</td>\n",
       "      <td>@HelloEli exacly</td>\n",
       "    </tr>\n",
       "    <tr>\n",
       "      <th>4</th>\n",
       "      <td>1</td>\n",
       "      <td>1677310858</td>\n",
       "      <td>Sat May 02 01:26:00 PDT 2009</td>\n",
       "      <td>NO_QUERY</td>\n",
       "      <td>tristantales</td>\n",
       "      <td>In fairness. He smells good.</td>\n",
       "    </tr>\n",
       "  </tbody>\n",
       "</table>\n",
       "</div>"
      ],
      "text/plain": [
       "   target          id                          date      flag          user  \\\n",
       "0       1  2007530999  Tue Jun 02 12:46:34 PDT 2009  NO_QUERY      Zensunni   \n",
       "1       0  2053389416  Sat Jun 06 04:22:50 PDT 2009  NO_QUERY   nikki050572   \n",
       "2       0  2202299998  Tue Jun 16 21:33:49 PDT 2009  NO_QUERY   BigBossBeta   \n",
       "3       0  2013656571  Tue Jun 02 23:13:29 PDT 2009  NO_QUERY      haushi87   \n",
       "4       1  1677310858  Sat May 02 01:26:00 PDT 2009  NO_QUERY  tristantales   \n",
       "\n",
       "                                                text  \n",
       "0  @pbadstibner I have good balance..used to do m...  \n",
       "1  @gtissa Still having issue and it's GDI!!! The...  \n",
       "2  @Chrismorris528 Sigh. In 3 hours. It sucks to ...  \n",
       "3                                  @HelloEli exacly   \n",
       "4                      In fairness. He smells good.   "
      ]
     },
     "metadata": {},
     "output_type": "display_data"
    },
    {
     "name": "stdout",
     "output_type": "stream",
     "text": [
      "\n",
      "--- Informations générales ---\n",
      "<class 'pandas.core.frame.DataFrame'>\n",
      "RangeIndex: 16000 entries, 0 to 15999\n",
      "Data columns (total 6 columns):\n",
      " #   Column  Non-Null Count  Dtype \n",
      "---  ------  --------------  ----- \n",
      " 0   target  16000 non-null  int64 \n",
      " 1   id      16000 non-null  int64 \n",
      " 2   date    16000 non-null  object\n",
      " 3   flag    16000 non-null  object\n",
      " 4   user    16000 non-null  object\n",
      " 5   text    16000 non-null  object\n",
      "dtypes: int64(2), object(4)\n",
      "memory usage: 750.1+ KB\n",
      "\n",
      "--- Statistiques globales ---\n"
     ]
    },
    {
     "data": {
      "text/html": [
       "<div>\n",
       "<style scoped>\n",
       "    .dataframe tbody tr th:only-of-type {\n",
       "        vertical-align: middle;\n",
       "    }\n",
       "\n",
       "    .dataframe tbody tr th {\n",
       "        vertical-align: top;\n",
       "    }\n",
       "\n",
       "    .dataframe thead th {\n",
       "        text-align: right;\n",
       "    }\n",
       "</style>\n",
       "<table border=\"1\" class=\"dataframe\">\n",
       "  <thead>\n",
       "    <tr style=\"text-align: right;\">\n",
       "      <th></th>\n",
       "      <th>target</th>\n",
       "      <th>id</th>\n",
       "      <th>date</th>\n",
       "      <th>flag</th>\n",
       "      <th>user</th>\n",
       "      <th>text</th>\n",
       "    </tr>\n",
       "  </thead>\n",
       "  <tbody>\n",
       "    <tr>\n",
       "      <th>count</th>\n",
       "      <td>16000.000000</td>\n",
       "      <td>1.600000e+04</td>\n",
       "      <td>16000</td>\n",
       "      <td>16000</td>\n",
       "      <td>16000</td>\n",
       "      <td>16000</td>\n",
       "    </tr>\n",
       "    <tr>\n",
       "      <th>unique</th>\n",
       "      <td>NaN</td>\n",
       "      <td>NaN</td>\n",
       "      <td>15832</td>\n",
       "      <td>1</td>\n",
       "      <td>15291</td>\n",
       "      <td>15987</td>\n",
       "    </tr>\n",
       "    <tr>\n",
       "      <th>top</th>\n",
       "      <td>NaN</td>\n",
       "      <td>NaN</td>\n",
       "      <td>Sat Jun 06 19:40:29 PDT 2009</td>\n",
       "      <td>NO_QUERY</td>\n",
       "      <td>lost_dog</td>\n",
       "      <td>isPlayer Has Died! Sorry</td>\n",
       "    </tr>\n",
       "    <tr>\n",
       "      <th>freq</th>\n",
       "      <td>NaN</td>\n",
       "      <td>NaN</td>\n",
       "      <td>2</td>\n",
       "      <td>16000</td>\n",
       "      <td>8</td>\n",
       "      <td>5</td>\n",
       "    </tr>\n",
       "    <tr>\n",
       "      <th>mean</th>\n",
       "      <td>0.500000</td>\n",
       "      <td>1.999674e+09</td>\n",
       "      <td>NaN</td>\n",
       "      <td>NaN</td>\n",
       "      <td>NaN</td>\n",
       "      <td>NaN</td>\n",
       "    </tr>\n",
       "    <tr>\n",
       "      <th>std</th>\n",
       "      <td>0.500016</td>\n",
       "      <td>1.943592e+08</td>\n",
       "      <td>NaN</td>\n",
       "      <td>NaN</td>\n",
       "      <td>NaN</td>\n",
       "      <td>NaN</td>\n",
       "    </tr>\n",
       "    <tr>\n",
       "      <th>min</th>\n",
       "      <td>0.000000</td>\n",
       "      <td>1.467816e+09</td>\n",
       "      <td>NaN</td>\n",
       "      <td>NaN</td>\n",
       "      <td>NaN</td>\n",
       "      <td>NaN</td>\n",
       "    </tr>\n",
       "    <tr>\n",
       "      <th>25%</th>\n",
       "      <td>0.000000</td>\n",
       "      <td>1.957240e+09</td>\n",
       "      <td>NaN</td>\n",
       "      <td>NaN</td>\n",
       "      <td>NaN</td>\n",
       "      <td>NaN</td>\n",
       "    </tr>\n",
       "    <tr>\n",
       "      <th>50%</th>\n",
       "      <td>0.500000</td>\n",
       "      <td>2.002712e+09</td>\n",
       "      <td>NaN</td>\n",
       "      <td>NaN</td>\n",
       "      <td>NaN</td>\n",
       "      <td>NaN</td>\n",
       "    </tr>\n",
       "    <tr>\n",
       "      <th>75%</th>\n",
       "      <td>1.000000</td>\n",
       "      <td>2.177771e+09</td>\n",
       "      <td>NaN</td>\n",
       "      <td>NaN</td>\n",
       "      <td>NaN</td>\n",
       "      <td>NaN</td>\n",
       "    </tr>\n",
       "    <tr>\n",
       "      <th>max</th>\n",
       "      <td>1.000000</td>\n",
       "      <td>2.329205e+09</td>\n",
       "      <td>NaN</td>\n",
       "      <td>NaN</td>\n",
       "      <td>NaN</td>\n",
       "      <td>NaN</td>\n",
       "    </tr>\n",
       "  </tbody>\n",
       "</table>\n",
       "</div>"
      ],
      "text/plain": [
       "              target            id                          date      flag  \\\n",
       "count   16000.000000  1.600000e+04                         16000     16000   \n",
       "unique           NaN           NaN                         15832         1   \n",
       "top              NaN           NaN  Sat Jun 06 19:40:29 PDT 2009  NO_QUERY   \n",
       "freq             NaN           NaN                             2     16000   \n",
       "mean        0.500000  1.999674e+09                           NaN       NaN   \n",
       "std         0.500016  1.943592e+08                           NaN       NaN   \n",
       "min         0.000000  1.467816e+09                           NaN       NaN   \n",
       "25%         0.000000  1.957240e+09                           NaN       NaN   \n",
       "50%         0.500000  2.002712e+09                           NaN       NaN   \n",
       "75%         1.000000  2.177771e+09                           NaN       NaN   \n",
       "max         1.000000  2.329205e+09                           NaN       NaN   \n",
       "\n",
       "            user                       text  \n",
       "count      16000                      16000  \n",
       "unique     15291                      15987  \n",
       "top     lost_dog  isPlayer Has Died! Sorry   \n",
       "freq           8                          5  \n",
       "mean         NaN                        NaN  \n",
       "std          NaN                        NaN  \n",
       "min          NaN                        NaN  \n",
       "25%          NaN                        NaN  \n",
       "50%          NaN                        NaN  \n",
       "75%          NaN                        NaN  \n",
       "max          NaN                        NaN  "
      ]
     },
     "metadata": {},
     "output_type": "display_data"
    },
    {
     "name": "stdout",
     "output_type": "stream",
     "text": [
      "\n",
      "--- Valeurs manquantes ---\n",
      "target    0\n",
      "id        0\n",
      "date      0\n",
      "flag      0\n",
      "user      0\n",
      "text      0\n",
      "dtype: int64\n"
     ]
    },
    {
     "name": "stderr",
     "output_type": "stream",
     "text": [
      "C:\\Users\\vicau\\AppData\\Local\\Temp\\ipykernel_19824\\3988785873.py:23: FutureWarning: \n",
      "\n",
      "Passing `palette` without assigning `hue` is deprecated and will be removed in v0.14.0. Assign the `x` variable to `hue` and set `legend=False` for the same effect.\n",
      "\n",
      "  sns.countplot(x=\"target\", data=df, palette=\"viridis\")\n"
     ]
    },
    {
     "data": {
      "image/png": "[encoded data removed]",
      "text/plain": [
       "<Figure size 500x400 with 1 Axes>"
      ]
     },
     "metadata": {},
     "output_type": "display_data"
    },
    {
     "data": {
      "image/png": "[encoded data removed]",
      "text/plain": [
       "<Figure size 800x400 with 1 Axes>"
      ]
     },
     "metadata": {},
     "output_type": "display_data"
    },
    {
     "name": "stdout",
     "output_type": "stream",
     "text": [
      "\n",
      "--- Longueurs moyennes des tweets ---\n",
      "         count      mean        std  min   25%   50%    75%    max\n",
      "target                                                            \n",
      "0       8000.0  74.72975  36.817973  7.0  44.0  70.0  104.0  192.0\n",
      "1       8000.0  73.59000  35.872350  8.0  44.0  68.0  102.0  282.0\n",
      "\n",
      "--- Exemples de tweets négatifs ---\n"
     ]
    },
    {
     "data": {
      "text/plain": [
       "1    @gtissa Still having issue and it's GDI!!! The...\n",
       "2    @Chrismorris528 Sigh. In 3 hours. It sucks to ...\n",
       "3                                    @HelloEli exacly \n",
       "6              http://bit.ly/Wl9yL  i want to go here \n",
       "8    @TrueBunbarian I bet you are counting down. Ye...\n",
       "Name: text, dtype: object"
      ]
     },
     "metadata": {},
     "output_type": "display_data"
    },
    {
     "name": "stdout",
     "output_type": "stream",
     "text": [
      "\n",
      "--- Exemples de tweets positifs ---\n"
     ]
    },
    {
     "data": {
      "text/plain": [
       "0    @pbadstibner I have good balance..used to do m...\n",
       "4                        In fairness. He smells good. \n",
       "5    beats the heat with cool guava juice in handi ...\n",
       "7    @YouHerevideo  I recommend Tweetdeck - you can...\n",
       "9    @fattysammy Is perfectly cooked and delicious ...\n",
       "Name: text, dtype: object"
      ]
     },
     "metadata": {},
     "output_type": "display_data"
    }
   ],
   "source": [
    "# Exploration rapide du dataset\n",
    "import pandas as pd\n",
    "import matplotlib.pyplot as plt\n",
    "import seaborn as sns\n",
    "\n",
    "# Chargement du dataset réduit\n",
    "df = pd.read_csv(\"../data/sentiment140_light.csv\", encoding=\"utf-8\")\n",
    "\n",
    "# Aperçu général\n",
    "display(df.head())\n",
    "print(\"\\n--- Informations générales ---\")\n",
    "df.info()\n",
    "\n",
    "print(\"\\n--- Statistiques globales ---\")\n",
    "display(df.describe(include='all'))\n",
    "\n",
    "# Vérification des valeurs manquantes\n",
    "print(\"\\n--- Valeurs manquantes ---\")\n",
    "print(df.isna().sum())\n",
    "\n",
    "# Distribution de la variable cible\n",
    "plt.figure(figsize=(5,4))\n",
    "sns.countplot(x=\"target\", data=df, palette=\"viridis\")\n",
    "plt.title(\"Distribution des classes (0 = négatif, 1 = positif)\")\n",
    "plt.xlabel(\"Sentiment\")\n",
    "plt.ylabel(\"Nombre de tweets\")\n",
    "plt.show()\n",
    "\n",
    "# Longueur des tweets\n",
    "df[\"text_length\"] = df[\"text\"].apply(len)\n",
    "\n",
    "plt.figure(figsize=(8,4))\n",
    "sns.histplot(df[\"text_length\"], bins=50, kde=True)\n",
    "plt.title(\"Distribution de la longueur des tweets\")\n",
    "plt.xlabel(\"Nombre de caractères\")\n",
    "plt.ylabel(\"Fréquence\")\n",
    "plt.show()\n",
    "\n",
    "print(\"\\n--- Longueurs moyennes des tweets ---\")\n",
    "print(df.groupby(\"target\")[\"text_length\"].describe())\n",
    "\n",
    "# Exemple de tweets positifs et négatifs\n",
    "print(\"\\n--- Exemples de tweets négatifs ---\")\n",
    "display(df[df[\"target\"] == 0][\"text\"].head(5))\n",
    "\n",
    "print(\"\\n--- Exemples de tweets positifs ---\")\n",
    "display(df[df[\"target\"] == 1][\"text\"].head(5))\n"
   ]
  },
  {
   "cell_type": "markdown",
   "id": "b28c4d64",
   "metadata": {},
   "source": [
    "# Tests de plusieurs models "
   ]
  },
  {
   "cell_type": "markdown",
   "id": "07064820",
   "metadata": {},
   "source": [
    "## Préparation commune"
   ]
  },
  {
   "cell_type": "code",
   "execution_count": 14,
   "id": "982e8ff4",
   "metadata": {},
   "outputs": [],
   "source": [
    "# === Préparation commune ===\n",
    "import pandas as pd\n",
    "from sklearn.model_selection import train_test_split\n",
    "from sklearn.metrics import classification_report, confusion_matrix, f1_score, accuracy_score\n",
    "import matplotlib.pyplot as plt\n",
    "import seaborn as sns\n",
    "\n",
    "# Charger le dataset réduit\n",
    "df = pd.read_csv(\"../data/sentiment140_light.csv\", encoding=\"utf-8\")\n",
    "X = df[\"text\"]\n",
    "y = df[\"target\"]\n",
    "\n",
    "# Split Train/Test\n",
    "X_train, X_test, y_train, y_test = train_test_split(\n",
    "    X, y, test_size=0.2, random_state=42, stratify=y\n",
    ")\n",
    "\n",
    "def plot_confusion_matrix(y_true, y_pred, title):\n",
    "    cm = confusion_matrix(y_true, y_pred)\n",
    "    plt.figure(figsize=(5,4))\n",
    "    sns.heatmap(cm, annot=True, fmt=\"d\", cmap=\"Blues\")\n",
    "    plt.title(f\"{title} - Matrice de confusion\")\n",
    "    plt.xlabel(\"Prédit\")\n",
    "    plt.ylabel(\"Réel\")\n",
    "    plt.show()\n"
   ]
  },
  {
   "cell_type": "markdown",
   "id": "f6e202da",
   "metadata": {},
   "source": [
    "### 1. Modèle classique — TF-IDF + Logistic Regression"
   ]
  },
  {
   "cell_type": "code",
   "execution_count": 15,
   "id": "20d1a044",
   "metadata": {},
   "outputs": [
    {
     "ename": "KeyboardInterrupt",
     "evalue": "",
     "output_type": "error",
     "traceback": [
      "\u001b[31m---------------------------------------------------------------------------\u001b[39m",
      "\u001b[31mKeyboardInterrupt\u001b[39m                         Traceback (most recent call last)",
      "\u001b[36mCell\u001b[39m\u001b[36m \u001b[39m\u001b[32mIn[15]\u001b[39m\u001b[32m, line 5\u001b[39m\n\u001b[32m      2\u001b[39m \u001b[38;5;28;01mfrom\u001b[39;00m\u001b[38;5;250m \u001b[39m\u001b[34;01msklearn\u001b[39;00m\u001b[34;01m.\u001b[39;00m\u001b[34;01mlinear_model\u001b[39;00m\u001b[38;5;250m \u001b[39m\u001b[38;5;28;01mimport\u001b[39;00m LogisticRegression\n\u001b[32m      4\u001b[39m vectorizer = TfidfVectorizer(max_features=\u001b[32m5000\u001b[39m, stop_words=\u001b[33m\"\u001b[39m\u001b[33menglish\u001b[39m\u001b[33m\"\u001b[39m)\n\u001b[32m----> \u001b[39m\u001b[32m5\u001b[39m X_train_tfidf = \u001b[43mvectorizer\u001b[49m\u001b[43m.\u001b[49m\u001b[43mfit_transform\u001b[49m\u001b[43m(\u001b[49m\u001b[43mX_train\u001b[49m\u001b[43m)\u001b[49m\n\u001b[32m      6\u001b[39m X_test_tfidf  = vectorizer.transform(X_test)\n\u001b[32m      8\u001b[39m model_lr = LogisticRegression(max_iter=\u001b[32m300\u001b[39m)\n",
      "\u001b[36mFile \u001b[39m\u001b[32mc:\\Users\\vicau\\P7OC\\.venv\\Lib\\site-packages\\sklearn\\feature_extraction\\text.py:2105\u001b[39m, in \u001b[36mTfidfVectorizer.fit_transform\u001b[39m\u001b[34m(self, raw_documents, y)\u001b[39m\n\u001b[32m   2098\u001b[39m \u001b[38;5;28mself\u001b[39m._check_params()\n\u001b[32m   2099\u001b[39m \u001b[38;5;28mself\u001b[39m._tfidf = TfidfTransformer(\n\u001b[32m   2100\u001b[39m     norm=\u001b[38;5;28mself\u001b[39m.norm,\n\u001b[32m   2101\u001b[39m     use_idf=\u001b[38;5;28mself\u001b[39m.use_idf,\n\u001b[32m   2102\u001b[39m     smooth_idf=\u001b[38;5;28mself\u001b[39m.smooth_idf,\n\u001b[32m   2103\u001b[39m     sublinear_tf=\u001b[38;5;28mself\u001b[39m.sublinear_tf,\n\u001b[32m   2104\u001b[39m )\n\u001b[32m-> \u001b[39m\u001b[32m2105\u001b[39m X = \u001b[38;5;28;43msuper\u001b[39;49m\u001b[43m(\u001b[49m\u001b[43m)\u001b[49m\u001b[43m.\u001b[49m\u001b[43mfit_transform\u001b[49m\u001b[43m(\u001b[49m\u001b[43mraw_documents\u001b[49m\u001b[43m)\u001b[49m\n\u001b[32m   2106\u001b[39m \u001b[38;5;28mself\u001b[39m._tfidf.fit(X)\n\u001b[32m   2107\u001b[39m \u001b[38;5;66;03m# X is already a transformed view of raw_documents so\u001b[39;00m\n\u001b[32m   2108\u001b[39m \u001b[38;5;66;03m# we set copy to False\u001b[39;00m\n",
      "\u001b[36mFile \u001b[39m\u001b[32mc:\\Users\\vicau\\P7OC\\.venv\\Lib\\site-packages\\sklearn\\base.py:1365\u001b[39m, in \u001b[36m_fit_context.<locals>.decorator.<locals>.wrapper\u001b[39m\u001b[34m(estimator, *args, **kwargs)\u001b[39m\n\u001b[32m   1358\u001b[39m     estimator._validate_params()\n\u001b[32m   1360\u001b[39m \u001b[38;5;28;01mwith\u001b[39;00m config_context(\n\u001b[32m   1361\u001b[39m     skip_parameter_validation=(\n\u001b[32m   1362\u001b[39m         prefer_skip_nested_validation \u001b[38;5;129;01mor\u001b[39;00m global_skip_validation\n\u001b[32m   1363\u001b[39m     )\n\u001b[32m   1364\u001b[39m ):\n\u001b[32m-> \u001b[39m\u001b[32m1365\u001b[39m     \u001b[38;5;28;01mreturn\u001b[39;00m \u001b[43mfit_method\u001b[49m\u001b[43m(\u001b[49m\u001b[43mestimator\u001b[49m\u001b[43m,\u001b[49m\u001b[43m \u001b[49m\u001b[43m*\u001b[49m\u001b[43margs\u001b[49m\u001b[43m,\u001b[49m\u001b[43m \u001b[49m\u001b[43m*\u001b[49m\u001b[43m*\u001b[49m\u001b[43mkwargs\u001b[49m\u001b[43m)\u001b[49m\n",
      "\u001b[36mFile \u001b[39m\u001b[32mc:\\Users\\vicau\\P7OC\\.venv\\Lib\\site-packages\\sklearn\\feature_extraction\\text.py:1377\u001b[39m, in \u001b[36mCountVectorizer.fit_transform\u001b[39m\u001b[34m(self, raw_documents, y)\u001b[39m\n\u001b[32m   1369\u001b[39m             warnings.warn(\n\u001b[32m   1370\u001b[39m                 \u001b[33m\"\u001b[39m\u001b[33mUpper case characters found in\u001b[39m\u001b[33m\"\u001b[39m\n\u001b[32m   1371\u001b[39m                 \u001b[33m\"\u001b[39m\u001b[33m vocabulary while \u001b[39m\u001b[33m'\u001b[39m\u001b[33mlowercase\u001b[39m\u001b[33m'\u001b[39m\u001b[33m\"\u001b[39m\n\u001b[32m   1372\u001b[39m                 \u001b[33m\"\u001b[39m\u001b[33m is True. These entries will not\u001b[39m\u001b[33m\"\u001b[39m\n\u001b[32m   1373\u001b[39m                 \u001b[33m\"\u001b[39m\u001b[33m be matched with any documents\u001b[39m\u001b[33m\"\u001b[39m\n\u001b[32m   1374\u001b[39m             )\n\u001b[32m   1375\u001b[39m             \u001b[38;5;28;01mbreak\u001b[39;00m\n\u001b[32m-> \u001b[39m\u001b[32m1377\u001b[39m vocabulary, X = \u001b[38;5;28;43mself\u001b[39;49m\u001b[43m.\u001b[49m\u001b[43m_count_vocab\u001b[49m\u001b[43m(\u001b[49m\u001b[43mraw_documents\u001b[49m\u001b[43m,\u001b[49m\u001b[43m \u001b[49m\u001b[38;5;28;43mself\u001b[39;49m\u001b[43m.\u001b[49m\u001b[43mfixed_vocabulary_\u001b[49m\u001b[43m)\u001b[49m\n\u001b[32m   1379\u001b[39m \u001b[38;5;28;01mif\u001b[39;00m \u001b[38;5;28mself\u001b[39m.binary:\n\u001b[32m   1380\u001b[39m     X.data.fill(\u001b[32m1\u001b[39m)\n",
      "\u001b[36mFile \u001b[39m\u001b[32mc:\\Users\\vicau\\P7OC\\.venv\\Lib\\site-packages\\sklearn\\feature_extraction\\text.py:1264\u001b[39m, in \u001b[36mCountVectorizer._count_vocab\u001b[39m\u001b[34m(self, raw_documents, fixed_vocab)\u001b[39m\n\u001b[32m   1262\u001b[39m \u001b[38;5;28;01mfor\u001b[39;00m doc \u001b[38;5;129;01min\u001b[39;00m raw_documents:\n\u001b[32m   1263\u001b[39m     feature_counter = {}\n\u001b[32m-> \u001b[39m\u001b[32m1264\u001b[39m     \u001b[38;5;28;01mfor\u001b[39;00m feature \u001b[38;5;129;01min\u001b[39;00m \u001b[43manalyze\u001b[49m\u001b[43m(\u001b[49m\u001b[43mdoc\u001b[49m\u001b[43m)\u001b[49m:\n\u001b[32m   1265\u001b[39m         \u001b[38;5;28;01mtry\u001b[39;00m:\n\u001b[32m   1266\u001b[39m             feature_idx = vocabulary[feature]\n",
      "\u001b[36mFile \u001b[39m\u001b[32mc:\\Users\\vicau\\P7OC\\.venv\\Lib\\site-packages\\sklearn\\feature_extraction\\text.py:109\u001b[39m, in \u001b[36m_analyze\u001b[39m\u001b[34m(doc, analyzer, tokenizer, ngrams, preprocessor, decoder, stop_words)\u001b[39m\n\u001b[32m    107\u001b[39m \u001b[38;5;28;01mif\u001b[39;00m ngrams \u001b[38;5;129;01mis\u001b[39;00m \u001b[38;5;129;01mnot\u001b[39;00m \u001b[38;5;28;01mNone\u001b[39;00m:\n\u001b[32m    108\u001b[39m     \u001b[38;5;28;01mif\u001b[39;00m stop_words \u001b[38;5;129;01mis\u001b[39;00m \u001b[38;5;129;01mnot\u001b[39;00m \u001b[38;5;28;01mNone\u001b[39;00m:\n\u001b[32m--> \u001b[39m\u001b[32m109\u001b[39m         doc = \u001b[43mngrams\u001b[49m\u001b[43m(\u001b[49m\u001b[43mdoc\u001b[49m\u001b[43m,\u001b[49m\u001b[43m \u001b[49m\u001b[43mstop_words\u001b[49m\u001b[43m)\u001b[49m\n\u001b[32m    110\u001b[39m     \u001b[38;5;28;01melse\u001b[39;00m:\n\u001b[32m    111\u001b[39m         doc = ngrams(doc)\n",
      "\u001b[36mFile \u001b[39m\u001b[32mc:\\Users\\vicau\\P7OC\\.venv\\Lib\\site-packages\\sklearn\\feature_extraction\\text.py:238\u001b[39m, in \u001b[36m_VectorizerMixin._word_ngrams\u001b[39m\u001b[34m(self, tokens, stop_words)\u001b[39m\n\u001b[32m    232\u001b[39m         \u001b[38;5;28;01mraise\u001b[39;00m \u001b[38;5;167;01mValueError\u001b[39;00m(\n\u001b[32m    233\u001b[39m             \u001b[33m\"\u001b[39m\u001b[33mnp.nan is an invalid document, expected byte or unicode string.\u001b[39m\u001b[33m\"\u001b[39m\n\u001b[32m    234\u001b[39m         )\n\u001b[32m    236\u001b[39m     \u001b[38;5;28;01mreturn\u001b[39;00m doc\n\u001b[32m--> \u001b[39m\u001b[32m238\u001b[39m \u001b[38;5;28;01mdef\u001b[39;00m\u001b[38;5;250m \u001b[39m\u001b[34m_word_ngrams\u001b[39m(\u001b[38;5;28mself\u001b[39m, tokens, stop_words=\u001b[38;5;28;01mNone\u001b[39;00m):\n\u001b[32m    239\u001b[39m \u001b[38;5;250m    \u001b[39m\u001b[33;03m\"\"\"Turn tokens into a sequence of n-grams after stop words filtering\"\"\"\u001b[39;00m\n\u001b[32m    240\u001b[39m     \u001b[38;5;66;03m# handle stop words\u001b[39;00m\n",
      "\u001b[31mKeyboardInterrupt\u001b[39m: "
     ]
    }
   ],
   "source": [
    "from sklearn.feature_extraction.text import TfidfVectorizer\n",
    "from sklearn.linear_model import LogisticRegression\n",
    "\n",
    "vectorizer = TfidfVectorizer(max_features=5000, stop_words=\"english\")\n",
    "X_train_tfidf = vectorizer.fit_transform(X_train)\n",
    "X_test_tfidf  = vectorizer.transform(X_test)\n",
    "\n",
    "model_lr = LogisticRegression(max_iter=300)\n",
    "model_lr.fit(X_train_tfidf, y_train)\n",
    "y_pred_lr = model_lr.predict(X_test_tfidf)\n",
    "\n",
    "print(\"=== Logistic Regression ===\")\n",
    "print(classification_report(y_test, y_pred_lr))\n",
    "print(\"Accuracy:\", accuracy_score(y_test, y_pred_lr))\n",
    "print(\"F1-score:\", f1_score(y_test, y_pred_lr))\n",
    "\n",
    "plot_confusion_matrix(y_test, y_pred_lr, \"Logistic Regression\")\n"
   ]
  },
  {
   "cell_type": "markdown",
   "id": "13441ab7",
   "metadata": {},
   "source": [
    "### 2. TF-IDF + Random Forest"
   ]
  },
  {
   "cell_type": "code",
   "execution_count": null,
   "id": "edd2f06f",
   "metadata": {},
   "outputs": [
    {
     "name": "stdout",
     "output_type": "stream",
     "text": [
      "=== Random Forest ===\n",
      "              precision    recall  f1-score   support\n",
      "\n",
      "           0       0.73      0.68      0.70      1600\n",
      "           1       0.70      0.75      0.72      1600\n",
      "\n",
      "    accuracy                           0.71      3200\n",
      "   macro avg       0.72      0.72      0.71      3200\n",
      "weighted avg       0.72      0.71      0.71      3200\n",
      "\n",
      "Accuracy: 0.715\n",
      "F1-score: 0.7244712990936556\n"
     ]
    },
    {
     "data": {
      "image/png": "[encoded data removed]",
      "text/plain": [
       "<Figure size 500x400 with 2 Axes>"
      ]
     },
     "metadata": {},
     "output_type": "display_data"
    }
   ],
   "source": [
    "from sklearn.ensemble import RandomForestClassifier\n",
    "\n",
    "model_rf = RandomForestClassifier(n_estimators=150, random_state=42)\n",
    "model_rf.fit(X_train_tfidf, y_train)\n",
    "y_pred_rf = model_rf.predict(X_test_tfidf)\n",
    "\n",
    "print(\"=== Random Forest ===\")\n",
    "print(classification_report(y_test, y_pred_rf))\n",
    "print(\"Accuracy:\", accuracy_score(y_test, y_pred_rf))\n",
    "print(\"F1-score:\", f1_score(y_test, y_pred_rf))\n",
    "\n",
    "plot_confusion_matrix(y_test, y_pred_rf, \"Random Forest\")\n"
   ]
  },
  {
   "cell_type": "markdown",
   "id": "c35104ea",
   "metadata": {},
   "source": [
    "### 3. TF-IDF + Naive Bayes"
   ]
  },
  {
   "cell_type": "code",
   "execution_count": null,
   "id": "7acbca9e",
   "metadata": {},
   "outputs": [
    {
     "name": "stdout",
     "output_type": "stream",
     "text": [
      "=== Naive Bayes ===\n",
      "              precision    recall  f1-score   support\n",
      "\n",
      "           0       0.71      0.74      0.73      1600\n",
      "           1       0.73      0.70      0.71      1600\n",
      "\n",
      "    accuracy                           0.72      3200\n",
      "   macro avg       0.72      0.72      0.72      3200\n",
      "weighted avg       0.72      0.72      0.72      3200\n",
      "\n",
      "Accuracy: 0.719375\n",
      "F1-score: 0.7127319257837492\n"
     ]
    },
    {
     "data": {
      "image/png": "[encoded data removed]",
      "text/plain": [
       "<Figure size 500x400 with 2 Axes>"
      ]
     },
     "metadata": {},
     "output_type": "display_data"
    }
   ],
   "source": [
    "from sklearn.naive_bayes import MultinomialNB\n",
    "\n",
    "model_nb = MultinomialNB()\n",
    "model_nb.fit(X_train_tfidf, y_train)\n",
    "y_pred_nb = model_nb.predict(X_test_tfidf)\n",
    "\n",
    "print(\"=== Naive Bayes ===\")\n",
    "print(classification_report(y_test, y_pred_nb))\n",
    "print(\"Accuracy:\", accuracy_score(y_test, y_pred_nb))\n",
    "print(\"F1-score:\", f1_score(y_test, y_pred_nb))\n",
    "\n",
    "plot_confusion_matrix(y_test, y_pred_nb, \"Naive Bayes\")\n"
   ]
  },
  {
   "cell_type": "markdown",
   "id": "fb295bfa",
   "metadata": {},
   "source": [
    "### 4. Bag of Words + MLP"
   ]
  },
  {
   "cell_type": "code",
   "execution_count": null,
   "id": "59b828eb",
   "metadata": {},
   "outputs": [
    {
     "name": "stdout",
     "output_type": "stream",
     "text": [
      "=== Bag of Words + MLP ===\n",
      "              precision    recall  f1-score   support\n",
      "\n",
      "           0       0.68      0.71      0.69      1600\n",
      "           1       0.70      0.67      0.68      1600\n",
      "\n",
      "    accuracy                           0.69      3200\n",
      "   macro avg       0.69      0.69      0.69      3200\n",
      "weighted avg       0.69      0.69      0.69      3200\n",
      "\n",
      "Accuracy: 0.688125\n",
      "F1-score: 0.681150159744409\n"
     ]
    },
    {
     "name": "stderr",
     "output_type": "stream",
     "text": [
      "c:\\Users\\vicau\\P7OC\\.venv\\Lib\\site-packages\\sklearn\\neural_network\\_multilayer_perceptron.py:788: UserWarning: Training interrupted by user.\n",
      "  warnings.warn(\"Training interrupted by user.\")\n"
     ]
    },
    {
     "data": {
      "image/png": "[encoded data removed]",
      "text/plain": [
       "<Figure size 500x400 with 2 Axes>"
      ]
     },
     "metadata": {},
     "output_type": "display_data"
    }
   ],
   "source": [
    "from sklearn.feature_extraction.text import CountVectorizer\n",
    "from sklearn.neural_network import MLPClassifier\n",
    "from sklearn.metrics import classification_report, confusion_matrix, accuracy_score, f1_score\n",
    "\n",
    "# Vectorisation bag-of-words\n",
    "bow = CountVectorizer(max_features=5000, stop_words=\"english\")\n",
    "X_train_bow = bow.fit_transform(X_train).toarray()\n",
    "X_test_bow  = bow.transform(X_test).toarray()\n",
    "\n",
    "# Modèle MLP\n",
    "mlp_bow = MLPClassifier(hidden_layer_sizes=(64, 32), max_iter=300, random_state=42)\n",
    "mlp_bow.fit(X_train_bow, y_train)\n",
    "y_pred_bow = mlp_bow.predict(X_test_bow)\n",
    "\n",
    "# Évaluation\n",
    "print(\"=== Bag of Words + MLP ===\")\n",
    "print(classification_report(y_test, y_pred_bow))\n",
    "print(\"Accuracy:\", accuracy_score(y_test, y_pred_bow))\n",
    "print(\"F1-score:\", f1_score(y_test, y_pred_bow))\n",
    "\n",
    "cm = confusion_matrix(y_test, y_pred_bow)\n",
    "plt.figure(figsize=(5,4))\n",
    "sns.heatmap(cm, annot=True, fmt=\"d\", cmap=\"Blues\")\n",
    "plt.title(\"Bag of Words + MLP - Matrice de confusion\")\n",
    "plt.xlabel(\"Prédit\")\n",
    "plt.ylabel(\"Réel\")\n",
    "plt.show()\n",
    "\n"
   ]
  },
  {
   "cell_type": "markdown",
   "id": "5c970c25",
   "metadata": {},
   "source": [
    "### 5. DistilBERT (pré-entraîné)"
   ]
  },
  {
   "cell_type": "code",
   "execution_count": null,
   "id": "bfddb68b",
   "metadata": {},
   "outputs": [],
   "source": [
    "from transformers import DistilBertTokenizer, TFDistilBertForSequenceClassification\n",
    "from tensorflow.keras.optimizers import Adam\n",
    "from sklearn.metrics import classification_report, confusion_matrix, accuracy_score, f1_score\n",
    "import tensorflow as tf\n",
    "import numpy as np\n",
    "import seaborn as sns\n",
    "import matplotlib.pyplot as plt\n",
    "\n",
    "# Chargement du tokenizer\n",
    "tokenizer = DistilBertTokenizer.from_pretrained(\"distilbert-base-uncased\")\n",
    "\n",
    "# Tokenisation\n",
    "X_train_enc = tokenizer(list(X_train), truncation=True, padding=True, max_length=64, return_tensors=\"tf\")\n",
    "X_test_enc  = tokenizer(list(X_test), truncation=True, padding=True, max_length=64, return_tensors=\"tf\")\n",
    "\n",
    "# Modèle\n",
    "model = TFDistilBertForSequenceClassification.from_pretrained(\"distilbert-base-uncased\", num_labels=2)\n",
    "optimizer = Adam(learning_rate=3e-5)\n",
    "model.compile(optimizer=optimizer, loss=model.compute_loss, metrics=[\"accuracy\"])\n",
    "\n",
    "# Entraînement (léger pour démonstration)\n",
    "model.fit(X_train_enc, y_train, validation_data=(X_test_enc, y_test), epochs=1, batch_size=16)\n",
    "\n",
    "# Prédiction\n",
    "preds = model.predict(X_test_enc).logits\n",
    "y_pred = np.argmax(preds, axis=1)\n",
    "\n",
    "# Évaluation\n",
    "print(\"=== DistilBERT ===\")\n",
    "print(classification_report(y_test, y_pred))\n",
    "print(\"Accuracy:\", accuracy_score(y_test, y_pred))\n",
    "print(\"F1-score:\", f1_score(y_test, y_pred))\n",
    "\n",
    "cm = confusion_matrix(y_test, y_pred)\n",
    "plt.figure(figsize=(5,4))\n",
    "sns.heatmap(cm, annot=True, fmt=\"d\", cmap=\"Blues\")\n",
    "plt.title(\"DistilBERT - Matrice de confusion\")\n",
    "plt.xlabel(\"Prédit\")\n",
    "plt.ylabel(\"Réel\")\n",
    "plt.show()\n"
   ]
  },
  {
   "cell_type": "markdown",
   "id": "8de375a2",
   "metadata": {},
   "source": [
    "### 6. FastText (avec la lib officielle de Meta)"
   ]
  }
 ],
 "metadata": {
  "kernelspec": {
   "display_name": ".venv",
   "language": "python",
   "name": "python3"
  },
  "language_info": {
   "codemirror_mode": {
    "name": "ipython",
    "version": 3
   },
   "file_extension": ".py",
   "mimetype": "text/x-python",
   "name": "python",
   "nbconvert_exporter": "python",
   "pygments_lexer": "ipython3",
   "version": "3.13.6"
  }
 },
 "nbformat": 4,
 "nbformat_minor": 5
}
